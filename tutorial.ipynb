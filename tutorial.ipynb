{
 "cells": [
  {
   "cell_type": "markdown",
   "metadata": {
    "id": "DrBcF1rpk77M"
   },
   "source": [
    "# Tutorial on getting hands on the event data for a single match.\n",
    "-----\n",
    "\n",
    "\n",
    "*author: alihasankhan*\n",
    "\n",
    "*twitter: @rockingAli5* \n"
   ]
  },
  {
   "cell_type": "markdown",
   "metadata": {
    "id": "1r3n3j-4k77P"
   },
   "source": [
    "# Import modules"
   ]
  },
  {
   "cell_type": "code",
   "execution_count": 1,
   "metadata": {
    "colab": {
     "base_uri": "https://localhost:8080/"
    },
    "id": "jxtGsFv8lFP5",
    "outputId": "59208189-b7ef-4c1f-bdff-7d3c9d325821"
   },
   "outputs": [],
   "source": [
    "# !git clone \"https://github.com/Ali-Hasan-Khan/Scrape-Whoscored-Event-Data.git\""
   ]
  },
  {
   "cell_type": "code",
   "execution_count": 1,
   "metadata": {
    "ExecuteTime": {
     "end_time": "2022-02-24T15:15:48.378766Z",
     "start_time": "2022-02-24T15:15:47.546397Z"
    },
    "colab": {
     "base_uri": "https://localhost:8080/"
    },
    "id": "VjSii-XGk77Q",
    "outputId": "44fa92c3-4a56-4068-84fa-71fbf27151b6"
   },
   "outputs": [
    {
     "name": "stderr",
     "output_type": "stream",
     "text": [
      "/tmp/ipykernel_86452/264210428.py:1: DeprecationWarning: \n",
      "Pyarrow will become a required dependency of pandas in the next major release of pandas (pandas 3.0),\n",
      "(to allow more performant data types, such as the Arrow string type, and better interoperability with other libraries)\n",
      "but was not found to be installed on your system.\n",
      "If this would cause problems for you,\n",
      "please provide us feedback at https://github.com/pandas-dev/pandas/issues/54466\n",
      "        \n",
      "  import pandas as pd\n"
     ]
    }
   ],
   "source": [
    "import pandas as pd\n",
    "import matplotlib.pyplot as plt\n",
    "import numpy as np\n",
    "from selenium import webdriver\n",
    "from selenium.webdriver.chrome.service import Service\n",
    "from webdriver_manager.chrome import ChromeDriverManager\n",
    "from selenium.webdriver.common.by import By\n",
    "import main\n",
    "# import visuals\n",
    "import seaborn as sns\n",
    "import requests\n",
    "# import utils\n",
    "import os\n",
    "%load_ext autoreload\n",
    "%autoreload 2"
   ]
  },
  {
   "cell_type": "markdown",
   "metadata": {
    "id": "3V7iV9Vqk77R"
   },
   "source": [
    "# Get match data"
   ]
  },
  {
   "cell_type": "markdown",
   "metadata": {},
   "source": [
    "If you get the following exception, try running the cell again:<br>\n",
    "`NoSuchElementException: Message: unknown error: cannot determine loading status\n",
    "from no such window`"
   ]
  },
  {
   "cell_type": "code",
   "execution_count": 112,
   "metadata": {},
   "outputs": [],
   "source": [
    "driver = webdriver.Firefox()"
   ]
  },
  {
   "cell_type": "code",
   "execution_count": 5,
   "metadata": {},
   "outputs": [],
   "source": [
    "match_url = \"https://www.scoresway.com/en_GB/soccer/primera-divisi%C3%B3n-2024-2025/4x7uzww3jur4re7sgt3mslyj8/match/view/6y0rev1t8s1s8hppafgrnmuc4/match-stats\"\n",
    "driver.get(match_url)"
   ]
  },
  {
   "cell_type": "code",
   "execution_count": 51,
   "metadata": {},
   "outputs": [
    {
     "data": {
      "text/plain": [
       "<selenium.webdriver.remote.webelement.WebElement (session=\"f9a1d8c3-9f36-4005-9e81-96ef35686ead\", element=\"ae3194dc-84f6-43b0-852c-673846a90b60\")>"
      ]
     },
     "execution_count": 51,
     "metadata": {},
     "output_type": "execute_result"
    }
   ],
   "source": [
    "tables = driver.find_element(By.XPATH, '//*[@id=\"Opta_1\"]/div/div/div')\n",
    "tables"
   ]
  },
  {
   "cell_type": "code",
   "execution_count": 15,
   "metadata": {},
   "outputs": [],
   "source": [
    "from bs4 import BeautifulSoup as soup\n",
    "tables = soup(tables.get_attribute('innerHTML')).find_all('table')"
   ]
  },
  {
   "cell_type": "code",
   "execution_count": null,
   "metadata": {},
   "outputs": [
    {
     "name": "stdout",
     "output_type": "stream",
     "text": [
      "[{'Match Metadata': {'Home Team': 'Southampton FC', 'Home Score': '2', 'Away Team': 'Liverpool FC', 'Away Score': '3', 'Competition': 'Premier League', 'Date': '24/11/2024', 'Time': '19:30'}}, {'Possession': {'Home': '37.8%', 'Away': '62.2%'}}, {'Duels success rate': {'Home': '48.7%', 'Away': '51.3%'}}, {'Aerial duels won': {'Home': '57.1%', 'Away': '42.9%'}}, {'Interceptions': {'Home': '5', 'Away': '8'}}, {'Offsides': {'Home': '0', 'Away': '1'}}, {'Corners won': {'Home': '3', 'Away': '10'}}, {'Passes': {'Home': '365', 'Away': '600'}}, {'Long passes': {'Home': '29', 'Away': '39'}}, {'Passing accuracy': {'Home': '83.0%', 'Away': '88.5%'}}, {\"Passing accuracy in opponents' half (%)\": {'Home': '76.5%', 'Away': '82.0%'}}, {'Crosses': {'Home': '8', 'Away': '30'}}, {'Crossing accuracy': {'Home': '37.5%', 'Away': '30.0%'}}, {'Goals': {'Home': '2', 'Away': '3'}}, {'Shots': {'Home': '7', 'Away': '27'}}, {'Shots on target': {'Home': '5', 'Away': '11'}}, {'Blocked shots': {'Home': '0', 'Away': '9'}}, {'Shots outside the box': {'Home': '2', 'Away': '9'}}, {'Shots inside the box': {'Home': '5', 'Away': '18'}}, {'Shooting accuracy': {'Home': '71.4%', 'Away': '40.7%'}}, {'Tackles': {'Home': '15', 'Away': '16'}}, {'Tackles success rate': {'Home': '53.3%', 'Away': '75.0%'}}, {'Clearances': {'Home': '32', 'Away': '4'}}, {'Fouls conceded': {'Home': '11', 'Away': '9'}}, {'Yellow cards': {'Home': '3', 'Away': '4'}}, {'Red cards': {'Home': '0', 'Away': '0'}}]\n"
     ]
    }
   ],
   "source": [
    "def getMatchStats(driver, url):\n",
    "    import time\n",
    "    driver.get(url)\n",
    "    time.sleep(5) # wait for elemnt to load\n",
    "\n",
    "    match_metadata_table = driver.find_element(By.XPATH, '//*[@id=\"Opta_0\"]/div/div/table')\n",
    "    match_metadata_table = soup(match_metadata_table.get_attribute('innerHTML'))\n",
    "    home_team = match_metadata_table.findAll('td', class_='Opta-Team')[0].text.strip()\n",
    "    home_score = match_metadata_table.findAll('td', class_='Opta-Score')[0].text.strip()\n",
    "    away_team = match_metadata_table.findAll('td', class_='Opta-Team')[1].text.strip()\n",
    "    away_score = match_metadata_table.findAll('td', class_='Opta-Score')[1].text.strip()\n",
    "\n",
    "    # Extract competition and date\n",
    "    competition = match_metadata_table.find('span', class_='Opta-Competition').text.strip()\n",
    "    date = match_metadata_table.find('span', class_='Opta-Date').text.strip().split(' ')[0]\n",
    "    time = match_metadata_table.find('span', class_='Opta-Date').text.strip().split(' ')[1]\n",
    "    home_team, home_score, away_team, away_score, competition, date, time\n",
    "\n",
    "    tables = driver.find_element(By.XPATH, '//*[@id=\"Opta_1\"]/div/div/div') # //*[@id=\"Opta_1\"]/div/div/div\n",
    "    tables = soup(tables.get_attribute('innerHTML')).find_all('table')\n",
    "    result = []\n",
    "    result.append({\"Match Metadata\": {\"Home Team\": home_team, \"Home Score\": home_score, \"Away Team\": away_team, \"Away Score\": away_score, \"Competition\": competition, \"Date\": date, \"Time\": time}})\n",
    "    for table in tables:\n",
    "        rows = table.find_all('tr')\n",
    "        for i in range(0, len(rows), 2):  # Headings and data are in pairs\n",
    "            heading = rows[i].find('th').text.strip()\n",
    "            data = rows[i + 1].find_all('td')\n",
    "            home = data[0].text.strip()\n",
    "            away = data[2].text.strip()\n",
    "            result.append({heading:{\"Home\": home, \"Away\": away}})\n",
    "    return result\n",
    "\n",
    "match_stats_url = \"https://www.scoresway.com/en_GB/soccer/premier-league-2024-2025/9n12waklv005j8r32sfjj2eqc/match/view/b9jqvdwj3ykf2ca6bhvx45iqc/match-stats\"\n",
    "res = getMatchStats(driver, match_stats_url)\n",
    "print(res)"
   ]
  },
  {
   "cell_type": "code",
   "execution_count": 145,
   "metadata": {},
   "outputs": [
    {
     "data": {
      "text/html": [
       "<div>\n",
       "<style scoped>\n",
       "    .dataframe tbody tr th:only-of-type {\n",
       "        vertical-align: middle;\n",
       "    }\n",
       "\n",
       "    .dataframe tbody tr th {\n",
       "        vertical-align: top;\n",
       "    }\n",
       "\n",
       "    .dataframe thead th {\n",
       "        text-align: right;\n",
       "    }\n",
       "</style>\n",
       "<table border=\"1\" class=\"dataframe\">\n",
       "  <thead>\n",
       "    <tr style=\"text-align: right;\">\n",
       "      <th></th>\n",
       "      <th>Player</th>\n",
       "      <th>General_MP</th>\n",
       "      <th>General_T</th>\n",
       "      <th>General_D</th>\n",
       "      <th>General_D%</th>\n",
       "      <th>General_AD</th>\n",
       "      <th>General_ADW</th>\n",
       "      <th>General_SD</th>\n",
       "      <th>General_FW</th>\n",
       "      <th>General_O</th>\n",
       "      <th>...</th>\n",
       "      <th>Goalkeeping_SAV</th>\n",
       "      <th>Goalkeeping_SFonT</th>\n",
       "      <th>Goalkeeping_SS (%)</th>\n",
       "      <th>Goalkeeping_KS</th>\n",
       "      <th>Goalkeeping_KS (%)</th>\n",
       "      <th>Goalkeeping_CC</th>\n",
       "      <th>Goalkeeping_CnC</th>\n",
       "      <th>Goalkeeping_D</th>\n",
       "      <th>Goalkeeping_Pu</th>\n",
       "      <th>team</th>\n",
       "    </tr>\n",
       "  </thead>\n",
       "  <tbody>\n",
       "    <tr>\n",
       "      <th>0</th>\n",
       "      <td>Alonso</td>\n",
       "      <td>90</td>\n",
       "      <td>59</td>\n",
       "      <td>2</td>\n",
       "      <td>None</td>\n",
       "      <td>None</td>\n",
       "      <td>None</td>\n",
       "      <td>None</td>\n",
       "      <td>None</td>\n",
       "      <td>None</td>\n",
       "      <td>...</td>\n",
       "      <td>None</td>\n",
       "      <td>None</td>\n",
       "      <td>None</td>\n",
       "      <td>None</td>\n",
       "      <td>None</td>\n",
       "      <td>None</td>\n",
       "      <td>None</td>\n",
       "      <td>None</td>\n",
       "      <td>None</td>\n",
       "      <td>home</td>\n",
       "    </tr>\n",
       "    <tr>\n",
       "      <th>1</th>\n",
       "      <td>Aspas</td>\n",
       "      <td>89</td>\n",
       "      <td>46</td>\n",
       "      <td>8</td>\n",
       "      <td>75%</td>\n",
       "      <td>2</td>\n",
       "      <td>100%</td>\n",
       "      <td>None</td>\n",
       "      <td>2</td>\n",
       "      <td>1</td>\n",
       "      <td>...</td>\n",
       "      <td>None</td>\n",
       "      <td>None</td>\n",
       "      <td>None</td>\n",
       "      <td>None</td>\n",
       "      <td>None</td>\n",
       "      <td>None</td>\n",
       "      <td>None</td>\n",
       "      <td>None</td>\n",
       "      <td>None</td>\n",
       "      <td>home</td>\n",
       "    </tr>\n",
       "    <tr>\n",
       "      <th>2</th>\n",
       "      <td>Bamba</td>\n",
       "      <td>62</td>\n",
       "      <td>29</td>\n",
       "      <td>5</td>\n",
       "      <td>None</td>\n",
       "      <td>None</td>\n",
       "      <td>None</td>\n",
       "      <td>None</td>\n",
       "      <td>None</td>\n",
       "      <td>None</td>\n",
       "      <td>...</td>\n",
       "      <td>None</td>\n",
       "      <td>None</td>\n",
       "      <td>None</td>\n",
       "      <td>None</td>\n",
       "      <td>None</td>\n",
       "      <td>None</td>\n",
       "      <td>None</td>\n",
       "      <td>None</td>\n",
       "      <td>None</td>\n",
       "      <td>home</td>\n",
       "    </tr>\n",
       "    <tr>\n",
       "      <th>3</th>\n",
       "      <td>Beltrán</td>\n",
       "      <td>75</td>\n",
       "      <td>37</td>\n",
       "      <td>4</td>\n",
       "      <td>50%</td>\n",
       "      <td>None</td>\n",
       "      <td>None</td>\n",
       "      <td>None</td>\n",
       "      <td>None</td>\n",
       "      <td>None</td>\n",
       "      <td>...</td>\n",
       "      <td>None</td>\n",
       "      <td>None</td>\n",
       "      <td>None</td>\n",
       "      <td>None</td>\n",
       "      <td>None</td>\n",
       "      <td>None</td>\n",
       "      <td>None</td>\n",
       "      <td>None</td>\n",
       "      <td>None</td>\n",
       "      <td>home</td>\n",
       "    </tr>\n",
       "    <tr>\n",
       "      <th>4</th>\n",
       "      <td>Douvikas</td>\n",
       "      <td>75</td>\n",
       "      <td>15</td>\n",
       "      <td>5</td>\n",
       "      <td>40%</td>\n",
       "      <td>1</td>\n",
       "      <td>None</td>\n",
       "      <td>None</td>\n",
       "      <td>1</td>\n",
       "      <td>1</td>\n",
       "      <td>...</td>\n",
       "      <td>None</td>\n",
       "      <td>None</td>\n",
       "      <td>None</td>\n",
       "      <td>None</td>\n",
       "      <td>None</td>\n",
       "      <td>None</td>\n",
       "      <td>None</td>\n",
       "      <td>None</td>\n",
       "      <td>None</td>\n",
       "      <td>home</td>\n",
       "    </tr>\n",
       "  </tbody>\n",
       "</table>\n",
       "<p>5 rows × 63 columns</p>\n",
       "</div>"
      ],
      "text/plain": [
       "     Player General_MP General_T General_D General_D% General_AD General_ADW  \\\n",
       "0    Alonso         90        59         2       None       None        None   \n",
       "1     Aspas         89        46         8        75%          2        100%   \n",
       "2     Bamba         62        29         5       None       None        None   \n",
       "3   Beltrán         75        37         4        50%       None        None   \n",
       "4  Douvikas         75        15         5        40%          1        None   \n",
       "\n",
       "  General_SD General_FW General_O  ... Goalkeeping_SAV Goalkeeping_SFonT  \\\n",
       "0       None       None      None  ...            None              None   \n",
       "1       None          2         1  ...            None              None   \n",
       "2       None       None      None  ...            None              None   \n",
       "3       None       None      None  ...            None              None   \n",
       "4       None          1         1  ...            None              None   \n",
       "\n",
       "  Goalkeeping_SS (%) Goalkeeping_KS Goalkeeping_KS (%) Goalkeeping_CC  \\\n",
       "0               None           None               None           None   \n",
       "1               None           None               None           None   \n",
       "2               None           None               None           None   \n",
       "3               None           None               None           None   \n",
       "4               None           None               None           None   \n",
       "\n",
       "  Goalkeeping_CnC Goalkeeping_D Goalkeeping_Pu  team  \n",
       "0            None          None           None  home  \n",
       "1            None          None           None  home  \n",
       "2            None          None           None  home  \n",
       "3            None          None           None  home  \n",
       "4            None          None           None  home  \n",
       "\n",
       "[5 rows x 63 columns]"
      ]
     },
     "execution_count": 145,
     "metadata": {},
     "output_type": "execute_result"
    }
   ],
   "source": [
    "def getPlayerStats(driver, player_stats_url):\n",
    "    import time\n",
    "    driver.get(player_stats_url)\n",
    "    time.sleep(5) # wait for elemnt to load\n",
    "\n",
    "    tables = driver.find_element(By.XPATH, '//*[@id=\"mts_home\"]/div/div/div[1]')\n",
    "    tables = soup(tables.get_attribute('innerHTML'))\n",
    "\n",
    "\n",
    "    dfs = []\n",
    "\n",
    "    # Find all the category sections (li elements containing player stats)\n",
    "    categories = tables.select(\"ul.Opta-TabbedContent > li\")\n",
    "\n",
    "    for category in categories:\n",
    "        # Extract the category name\n",
    "        category_name = category.find(\"h3\").text.strip()\n",
    "\n",
    "        # Find the table for this category\n",
    "        table = category.find(\"table\", class_=\"Opta-Striped\")\n",
    "        if not table:\n",
    "            continue\n",
    "\n",
    "        # Extract table headers (only from <thead>)\n",
    "        headers = [header.text.strip() for header in table.find(\"thead\").find_all(\"th\") if header.text.strip()]\n",
    "\n",
    "        # Extract player rows\n",
    "        rows = []\n",
    "        for row in table.find(\"tbody\").find_all(\"tr\"):\n",
    "            player_name = row.find(\"th\").text.strip()  # Player name in the first <th> of the row\n",
    "            stats = [cell.text.strip() or None for cell in row.find_all(\"td\")]  # Other stats in <td>\n",
    "            rows.append([player_name] + stats)\n",
    "\n",
    "        # Create a DataFrame for this category\n",
    "        df = pd.DataFrame(rows, columns=[\"Player\"] + headers)\n",
    "\n",
    "        # Add category-specific column prefixes (to distinguish overlapping column names)\n",
    "        df = df.rename(columns=lambda x: f\"{category_name}_{x}\" if x != \"Player\" else x)\n",
    "        dfs.append(df)\n",
    "\n",
    "    # Merge all DataFrames on the Player column\n",
    "    combined_df = dfs[0]\n",
    "    for df in dfs[1:]:\n",
    "        combined_df = pd.merge(combined_df, df, on=\"Player\", how=\"outer\")\n",
    "\n",
    "\n",
    "    away_btn = driver.find_element(By.XPATH, '//*[@id=\"content\"]/div[1]/div[3]/div/div/ul/li[2]').click()\n",
    "    time.sleep(5) # wait for elemnt to load\n",
    "\n",
    "    tables = driver.find_element(By.XPATH, '//*[@id=\"mts_away\"]/div/div/div[1]') \n",
    "    tables = soup(tables.get_attribute('innerHTML'))\n",
    "    away_dfs = []\n",
    "\n",
    "    # Repeat the same parsing logic as for home players to extract away players' data\n",
    "    categories = tables.select(\"ul.Opta-TabbedContent > li\")\n",
    "    for category in categories:\n",
    "        # Extract the category name\n",
    "        category_name = category.find(\"h3\").text.strip()\n",
    "\n",
    "        # Find the table for this category\n",
    "        table = category.find(\"table\", class_=\"Opta-Striped\")\n",
    "        if not table:\n",
    "            continue\n",
    "\n",
    "        # Extract table headers (only from <thead>)\n",
    "        headers = [header.text.strip() for header in table.find(\"thead\").find_all(\"th\") if header.text.strip()]\n",
    "\n",
    "        # Extract player rows\n",
    "        rows = []\n",
    "        for row in table.find(\"tbody\").find_all(\"tr\"):\n",
    "            player_name = row.find(\"th\").text.strip()  # Player name in the first <th> of the row\n",
    "            stats = [cell.text.strip() or None for cell in row.find_all(\"td\")]  # Other stats in <td>\n",
    "            rows.append([player_name] + stats)\n",
    "\n",
    "        # Create a DataFrame for this category\n",
    "        df = pd.DataFrame(rows, columns=[\"Player\"] + headers)\n",
    "\n",
    "        # Add category-specific column prefixes (to distinguish overlapping column names)\n",
    "        df = df.rename(columns=lambda x: f\"{category_name}_{x}\" if x != \"Player\" else x)\n",
    "        away_dfs.append(df)\n",
    "\n",
    "    # Merge all away DataFrames on the Player column\n",
    "    away_combined_df = away_dfs[0]\n",
    "    for df in away_dfs[1:]:\n",
    "        away_combined_df = pd.merge(away_combined_df, df, on=\"Player\", how=\"outer\")\n",
    "\n",
    "    # Add 'team' column to both home and away DataFrames\n",
    "    combined_df[\"team\"] = \"home\"\n",
    "    away_combined_df[\"team\"] = \"away\"\n",
    "\n",
    "    # Concatenate home and away data\n",
    "    final_df = pd.concat([combined_df, away_combined_df], ignore_index=True)\n",
    "\n",
    "    return final_df\n",
    "\n",
    "player_stats_url = \"https://www.scoresway.com/en_GB/soccer/primera-divisi%C3%B3n-2024-2025/4x7uzww3jur4re7sgt3mslyj8/match/view/6y0rev1t8s1s8hppafgrnmuc4/player-stats\"\n",
    "df = getPlayerStats(driver, player_stats_url)\n",
    "df.head()"
   ]
  },
  {
   "cell_type": "code",
   "execution_count": null,
   "metadata": {},
   "outputs": [],
   "source": []
  },
  {
   "cell_type": "code",
   "execution_count": null,
   "metadata": {},
   "outputs": [],
   "source": [
    "\n"
   ]
  }
 ],
 "metadata": {
  "colab": {
   "provenance": []
  },
  "kernelspec": {
   "display_name": "footda",
   "language": "python",
   "name": "python3"
  },
  "language_info": {
   "codemirror_mode": {
    "name": "ipython",
    "version": 3
   },
   "file_extension": ".py",
   "mimetype": "text/x-python",
   "name": "python",
   "nbconvert_exporter": "python",
   "pygments_lexer": "ipython3",
   "version": "3.9.18"
  },
  "toc": {
   "base_numbering": 1,
   "nav_menu": {},
   "number_sections": true,
   "sideBar": true,
   "skip_h1_title": false,
   "title_cell": "Table of Contents",
   "title_sidebar": "Contents",
   "toc_cell": false,
   "toc_position": {
    "height": "calc(100% - 180px)",
    "left": "10px",
    "top": "150px",
    "width": "384px"
   },
   "toc_section_display": true,
   "toc_window_display": true
  },
  "varInspector": {
   "cols": {
    "lenName": 16,
    "lenType": 16,
    "lenVar": 40
   },
   "kernels_config": {
    "python": {
     "delete_cmd_postfix": "",
     "delete_cmd_prefix": "del ",
     "library": "var_list.py",
     "varRefreshCmd": "print(var_dic_list())"
    },
    "r": {
     "delete_cmd_postfix": ") ",
     "delete_cmd_prefix": "rm(",
     "library": "var_list.r",
     "varRefreshCmd": "cat(var_dic_list()) "
    }
   },
   "types_to_exclude": [
    "module",
    "function",
    "builtin_function_or_method",
    "instance",
    "_Feature"
   ],
   "window_display": false
  }
 },
 "nbformat": 4,
 "nbformat_minor": 1
}
